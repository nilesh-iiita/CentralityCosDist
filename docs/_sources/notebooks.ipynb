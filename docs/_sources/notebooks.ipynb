{
 "cells": [
  {
   "cell_type": "markdown",
   "metadata": {},
   "source": [
    "# CentralityCosDist Tutorial\n",
    "\n",
    "## The CentralityCosDist has following steps:\n",
    "1. The CentralityCosDist algorithm takes a network and a list of seeds as input.\n",
    "2. It calculates the centrality of each node in the network using multiple centrality measures.\n",
    "3. It then calculates the cosine similarity between each seed and all other nodes.\n",
    "4. It calculates the mean similarity of all nodes from all seed nodes.\n",
    "5. It ranks all nodes based on the mean similarity score.\n",
    "6. It sorts the rankings and returns them.\n",
    "\n",
    "## The following the pseudo code of CentralityCosDist"
   ]
  },
  {
   "cell_type": "markdown",
   "metadata": {},
   "source": [
    "```\n",
    "# CentralityCosDist\n",
    "\n",
    "# Input: Network, seeds\n",
    "\n",
    "# Output: Rankings of nodes\n",
    "\n",
    "# Initialize rankings\n",
    "rankings = []\n",
    "\n",
    "# For each seed:\n",
    "for seed in seeds:\n",
    "\n",
    "  # Perform multiple centrality analyses on the network\n",
    "  centralities = [\n",
    "    centrality(network, seed)\n",
    "    for centrality in CENTRALITY_MEASURES\n",
    "  ]\n",
    "\n",
    "  # Determine the cosine similarity among seeds\n",
    "  seed_similarities = cosine_similarity(centralities)\n",
    "\n",
    "  # (Optional) eliminate seeds that are highly dissimilar to the majority of the other seeds\n",
    "  if ELIMINATE_SEEDS:\n",
    "    seed_similarities = eliminate_seeds(seed_similarities)\n",
    "\n",
    "  # Determine the cosine similarity between the chosen seed and all other nodes\n",
    "  node_similarities = cosine_similarity(centralities, seed)\n",
    "\n",
    "  # Calculate the mean similarity of all nodes from all seed nodes\n",
    "  mean_similarity = mean_similarity(node_similarities)\n",
    "\n",
    "  # Rank all nodes based on the mean similarity score\n",
    "  rankings.append(mean_similarity)\n",
    "\n",
    "# Sort the rankings\n",
    "rankings.sort()\n",
    "\n",
    "# Return the rankings\n",
    "return rankings\n",
    "```"
   ]
  },
  {
   "cell_type": "markdown",
   "metadata": {},
   "source": [
    "## Network centrality analysis\n",
    "\n",
    "Network centrality analysis is a way of measuring the importance of nodes in a network. There are many different centrality measures, but some of the most common ones include:\n",
    "- Degree centrality: This measures how many nodes a node is connected to.\n",
    "- Betweenness centrality: This measures how often a node lies on the shortest path between other nodes.\n",
    "- Closeness centrality: This measures how close a node is to all other nodes.\n",
    "\n",
    "There are many common tools for network centrality analysis. Some of the most popular ones include:\n",
    "\n",
    "- NetworkX is a Python library for analyzing graphs and networks. It has a number of functions that can be used to calculate centrality measures, visualize networks, and perform other network analysis tasks.\n",
    "- Gephi is an open source software for visualizing and analyzing networks. It has a user-friendly interface that makes it easy to create and explore networks.\n",
    "- Cytoscape is an open source software for visualizing and analyzing networks. It has a variety of features that make it a powerful tool for network analysis.\n",
    "- R is a programming language and environment for statistical computing and graphics. It has a number of packages (e.g: igraph) that can be used for network analysis.\n",
    "- MATLAB is a programming language and environment for scientific computing. It has a number of functions that can be used for network analysis.\n",
    "\n",
    "Here is how to calculate multiple centrality analysis of a graph and export as csv file using NetworkX:\n",
    "\n",
    "```\n",
    "import networkx as nx\n",
    "\n",
    "# Create a graph\n",
    "graph = nx.Graph()\n",
    "\n",
    "# Add some nodes\n",
    "graph.add_nodes([1, 2, 3, 4])\n",
    "\n",
    "# Add some edges\n",
    "graph.add_edges([1, 2], [2, 3], [3, 4])\n",
    "\n",
    "# Calculate the centrality measures\n",
    "centralities = {}\n",
    "\n",
    "for centrality_measure in ['degree', 'betweenness', 'closeness']:\n",
    "  centrality = nx.centrality.calculate(graph, centrality_measure)\n",
    "  centrality_measures.update({centrality_measure: centrality})\n",
    "\n",
    "# Write the centrality measures to a CSV file\n",
    "with open('centralities.csv', 'w') as csvfile:\n",
    "  writer = csv.writer(csvfile, delimiter=',')\n",
    "  writer.writerows([centrality_measures.items() for centrality_measures in centrality_measures.items()])\n",
    "```\n",
    "\n",
    "This will create a CSV file called centralities.csv that contains the following columns:\n",
    "- Node\n",
    "- Degree Centrality\n",
    "- Betweenness Centrality\n",
    "- Closeness Centrality\n",
    "\n",
    "Following is the Network centrality file will used in this tutorial."
   ]
  },
  {
   "cell_type": "code",
   "execution_count": 1,
   "metadata": {},
   "outputs": [
    {
     "data": {
      "text/html": [
       "<div>\n",
       "<style scoped>\n",
       "    .dataframe tbody tr th:only-of-type {\n",
       "        vertical-align: middle;\n",
       "    }\n",
       "\n",
       "    .dataframe tbody tr th {\n",
       "        vertical-align: top;\n",
       "    }\n",
       "\n",
       "    .dataframe thead th {\n",
       "        text-align: right;\n",
       "    }\n",
       "</style>\n",
       "<table border=\"1\" class=\"dataframe\">\n",
       "  <thead>\n",
       "    <tr style=\"text-align: right;\">\n",
       "      <th></th>\n",
       "      <th>ID</th>\n",
       "      <th>Information_centrality</th>\n",
       "      <th>Degree_centrality</th>\n",
       "      <th>Betweenness_centrality</th>\n",
       "      <th>Eigenvector_centrality</th>\n",
       "      <th>Closeness_centrality</th>\n",
       "      <th>clustering_coefficient</th>\n",
       "      <th>Load_centrality</th>\n",
       "      <th>Page_rank</th>\n",
       "    </tr>\n",
       "  </thead>\n",
       "  <tbody>\n",
       "    <tr>\n",
       "      <th>0</th>\n",
       "      <td>AT5G13650</td>\n",
       "      <td>0.000147</td>\n",
       "      <td>0.000369</td>\n",
       "      <td>0.000509</td>\n",
       "      <td>1.836035e-07</td>\n",
       "      <td>0.053561</td>\n",
       "      <td>0.000000</td>\n",
       "      <td>0.000509</td>\n",
       "      <td>0.000133</td>\n",
       "    </tr>\n",
       "    <tr>\n",
       "      <th>1</th>\n",
       "      <td>AT5G65360</td>\n",
       "      <td>0.000243</td>\n",
       "      <td>0.007556</td>\n",
       "      <td>0.001312</td>\n",
       "      <td>1.591563e-01</td>\n",
       "      <td>0.054834</td>\n",
       "      <td>0.273171</td>\n",
       "      <td>0.001209</td>\n",
       "      <td>0.000353</td>\n",
       "    </tr>\n",
       "    <tr>\n",
       "      <th>2</th>\n",
       "      <td>AT5G14030</td>\n",
       "      <td>0.000105</td>\n",
       "      <td>0.000184</td>\n",
       "      <td>0.000000</td>\n",
       "      <td>8.635333e-13</td>\n",
       "      <td>0.037856</td>\n",
       "      <td>0.000000</td>\n",
       "      <td>0.000000</td>\n",
       "      <td>0.000076</td>\n",
       "    </tr>\n",
       "    <tr>\n",
       "      <th>3</th>\n",
       "      <td>AT3G48070</td>\n",
       "      <td>0.000242</td>\n",
       "      <td>0.002396</td>\n",
       "      <td>0.000404</td>\n",
       "      <td>1.440151e-06</td>\n",
       "      <td>0.057145</td>\n",
       "      <td>0.000000</td>\n",
       "      <td>0.000461</td>\n",
       "      <td>0.000247</td>\n",
       "    </tr>\n",
       "    <tr>\n",
       "      <th>4</th>\n",
       "      <td>AT4G35590</td>\n",
       "      <td>0.000099</td>\n",
       "      <td>0.000369</td>\n",
       "      <td>0.000170</td>\n",
       "      <td>1.255741e-09</td>\n",
       "      <td>0.041956</td>\n",
       "      <td>0.000000</td>\n",
       "      <td>0.000170</td>\n",
       "      <td>0.000181</td>\n",
       "    </tr>\n",
       "  </tbody>\n",
       "</table>\n",
       "</div>"
      ],
      "text/plain": [
       "          ID  Information_centrality  Degree_centrality  \\\n",
       "0  AT5G13650                0.000147           0.000369   \n",
       "1  AT5G65360                0.000243           0.007556   \n",
       "2  AT5G14030                0.000105           0.000184   \n",
       "3  AT3G48070                0.000242           0.002396   \n",
       "4  AT4G35590                0.000099           0.000369   \n",
       "\n",
       "   Betweenness_centrality  Eigenvector_centrality  Closeness_centrality  \\\n",
       "0                0.000509            1.836035e-07              0.053561   \n",
       "1                0.001312            1.591563e-01              0.054834   \n",
       "2                0.000000            8.635333e-13              0.037856   \n",
       "3                0.000404            1.440151e-06              0.057145   \n",
       "4                0.000170            1.255741e-09              0.041956   \n",
       "\n",
       "   clustering_coefficient  Load_centrality  Page_rank  \n",
       "0                0.000000         0.000509   0.000133  \n",
       "1                0.273171         0.001209   0.000353  \n",
       "2                0.000000         0.000000   0.000076  \n",
       "3                0.000000         0.000461   0.000247  \n",
       "4                0.000000         0.000170   0.000181  "
      ]
     },
     "metadata": {},
     "output_type": "display_data"
    }
   ],
   "source": [
    "import pandas as pd\n",
    "from IPython.display import HTML\n",
    "\n",
    "Network_Centrality_File = \"data/Network_Centrality.csv\"\n",
    "Seed_File = \"data/Seeds.tsv\"\n",
    "\n",
    "\n",
    "df_centralites = pd.read_csv(Network_Centrality_File)\n",
    "display(df_centralites.head(5))"
   ]
  },
  {
   "cell_type": "markdown",
   "metadata": {
    "tags": []
   },
   "source": [
    "## Seed node list\n",
    "\n",
    "Seed nodes are a subset of nodes in a network that are used to start the ranking process. The algorithm then ranks the remaining nodes based on their relationship to the seed nodes.\n",
    "\n",
    "Seed nodes can be chosen in a variety of ways. Some common methods include:\n",
    "- [x] **Choosing the nodes with the highest biological process significance.**\n",
    "- [X] Choosing the nodes with the highest degree centrality.\n",
    "- [x] Choosing the nodes with the highest betweenness centrality.\n",
    "- [x] Choosing the nodes that are connected to the most other nodes.\n",
    "- [x] Choosing the nodes that are connected to the most important nodes.\n",
    "\n",
    "\n",
    "    The choice of seed nodes can have a significant impact on the accuracy of the ranking algorithm.\n"
   ]
  },
  {
   "cell_type": "markdown",
   "metadata": {},
   "source": [
    "    Before we move forward, we need to filter out seed nodes for which we don't have centrality information. This is because the centrality measures are used to rank the nodes, and we can't rank a node if we don't have any information about its centrality. We can filter out the seed nodes by simply removing them from the network. This will ensure that the remaining nodes all have centrality information, and that the ranking algorithm will be able to rank them accurately."
   ]
  },
  {
   "cell_type": "code",
   "execution_count": 2,
   "metadata": {},
   "outputs": [
    {
     "data": {
      "text/plain": [
       "{'AT1G09100',\n",
       " 'AT1G09770',\n",
       " 'AT1G63290',\n",
       " 'AT3G01850',\n",
       " 'AT3G03900',\n",
       " 'AT3G05530',\n",
       " 'AT3G51840',\n",
       " 'AT5G08670',\n",
       " 'AT5G17310',\n",
       " 'ATCG00480'}"
      ]
     },
     "execution_count": 2,
     "metadata": {},
     "output_type": "execute_result"
    }
   ],
   "source": [
    "Seeds = set(open(Seed_File).read().splitlines()[1:]) # [1:] to remove header\n",
    "Seeds"
   ]
  },
  {
   "cell_type": "code",
   "execution_count": 3,
   "metadata": {},
   "outputs": [
    {
     "data": {
      "text/plain": [
       "['AT1G09770',\n",
       " 'AT3G01850',\n",
       " 'AT5G17310',\n",
       " 'AT3G51840',\n",
       " 'AT3G03900',\n",
       " 'AT5G08670',\n",
       " 'AT3G05530',\n",
       " 'AT1G63290',\n",
       " 'AT1G09100',\n",
       " 'ATCG00480']"
      ]
     },
     "execution_count": 3,
     "metadata": {},
     "output_type": "execute_result"
    }
   ],
   "source": [
    "Nodes = set(df_centralites.ID.to_list())\n",
    "Seeds = list(Nodes.intersection(Seeds))\n",
    "Seeds"
   ]
  },
  {
   "cell_type": "markdown",
   "metadata": {},
   "source": [
    "## CentralityCosDist\n",
    "\n",
    "### Load CentralityCosDist and create new instance of CentralityCosDist"
   ]
  },
  {
   "cell_type": "code",
   "execution_count": 4,
   "metadata": {},
   "outputs": [],
   "source": [
    "from centralitycosdist import CentralityCosDist\n",
    "algorithm = CentralityCosDist(Centrality_file=Network_Centrality_File)"
   ]
  },
  {
   "cell_type": "markdown",
   "metadata": {},
   "source": [
    "### Execute CentralityCosDist"
   ]
  },
  {
   "cell_type": "code",
   "execution_count": 5,
   "metadata": {},
   "outputs": [],
   "source": [
    "algorithm.run(seed_nodes=Seeds)"
   ]
  },
  {
   "cell_type": "markdown",
   "metadata": {},
   "source": [
    "### Get ranks"
   ]
  },
  {
   "cell_type": "code",
   "execution_count": 6,
   "metadata": {},
   "outputs": [
    {
     "data": {
      "text/plain": [
       "ID\n",
       "AT3G03900     1.0\n",
       "AT1G09100     2.0\n",
       "AT3G51840     3.0\n",
       "AT3G05530     4.0\n",
       "AT5G17310     5.0\n",
       "ATCG00480     6.0\n",
       "AT5G08670     7.5\n",
       "AT5G08680     7.5\n",
       "AT5G08690     9.0\n",
       "AT5G19680    10.0\n",
       "Name: Rank, dtype: float64"
      ]
     },
     "metadata": {},
     "output_type": "display_data"
    }
   ],
   "source": [
    "df_rank = algorithm.rank\n",
    "display(df_rank.head(10))"
   ]
  },
  {
   "cell_type": "markdown",
   "metadata": {},
   "source": [
    "### Get similarity score"
   ]
  },
  {
   "cell_type": "code",
   "execution_count": 7,
   "metadata": {},
   "outputs": [
    {
     "data": {
      "text/plain": [
       "ID\n",
       "AT3G03900    0.984956\n",
       "AT1G09100    0.984796\n",
       "AT3G51840    0.983411\n",
       "AT3G05530    0.981703\n",
       "AT5G17310    0.977869\n",
       "ATCG00480    0.975787\n",
       "AT5G08670    0.973695\n",
       "AT5G08680    0.973695\n",
       "AT5G08690    0.971715\n",
       "AT5G19680    0.970025\n",
       "Name: Similarity_score, dtype: float64"
      ]
     },
     "metadata": {},
     "output_type": "display_data"
    }
   ],
   "source": [
    "display(algorithm.similarity_score.head(10))"
   ]
  },
  {
   "cell_type": "markdown",
   "metadata": {},
   "source": [
    "### Checkout ranks of seed nodes"
   ]
  },
  {
   "cell_type": "code",
   "execution_count": 8,
   "metadata": {},
   "outputs": [
    {
     "data": {
      "text/plain": [
       "ID\n",
       "AT1G09770    25.0\n",
       "AT3G01850    11.5\n",
       "AT5G17310     5.0\n",
       "AT3G51840     3.0\n",
       "AT3G03900     1.0\n",
       "AT5G08670     7.5\n",
       "AT3G05530     4.0\n",
       "AT1G63290    11.5\n",
       "AT1G09100     2.0\n",
       "ATCG00480     6.0\n",
       "Name: Rank, dtype: float64"
      ]
     },
     "metadata": {},
     "output_type": "display_data"
    }
   ],
   "source": [
    "display(df_rank.loc[list(Seeds)])"
   ]
  },
  {
   "cell_type": "code",
   "execution_count": 9,
   "metadata": {},
   "outputs": [
    {
     "data": {
      "text/html": [
       "<details>\n",
       "<summary>Click to view session information</summary>\n",
       "<pre>\n",
       "-----\n",
       "centralitycosdist   0.1.1\n",
       "pandas              1.5.3\n",
       "session_info        1.0.0\n",
       "-----\n",
       "</pre>\n",
       "<details>\n",
       "<summary>Click to view modules imported as dependencies</summary>\n",
       "<pre>\n",
       "asttokens                   NA\n",
       "backcall                    0.2.0\n",
       "colorama                    0.4.6\n",
       "comm                        0.1.3\n",
       "cython_runtime              NA\n",
       "dateutil                    2.8.2\n",
       "debugpy                     1.5.1\n",
       "decorator                   5.1.1\n",
       "executing                   1.2.0\n",
       "ipykernel                   6.20.2\n",
       "ipython_genutils            0.2.0\n",
       "jedi                        0.18.2\n",
       "joblib                      1.2.0\n",
       "jupyter_server              1.23.6\n",
       "networkx                    2.8.4\n",
       "numpy                       1.24.2\n",
       "packaging                   23.0\n",
       "parso                       0.8.3\n",
       "pexpect                     4.8.0\n",
       "pickleshare                 0.7.5\n",
       "pkg_resources               NA\n",
       "platformdirs                3.2.0\n",
       "prompt_toolkit              3.0.38\n",
       "psutil                      5.9.0\n",
       "ptyprocess                  0.7.0\n",
       "pure_eval                   0.2.2\n",
       "pydev_ipython               NA\n",
       "pydevconsole                NA\n",
       "pydevd                      2.6.0\n",
       "pydevd_concurrency_analyser NA\n",
       "pydevd_file_utils           NA\n",
       "pydevd_plugins              NA\n",
       "pydevd_tracing              NA\n",
       "pygments                    2.14.0\n",
       "pytz                        2023.2\n",
       "scipy                       1.10.1\n",
       "setuptools                  65.6.3\n",
       "six                         1.16.0\n",
       "sklearn                     1.2.2\n",
       "sphinxcontrib               NA\n",
       "stack_data                  0.6.2\n",
       "threadpoolctl               3.1.0\n",
       "tornado                     6.2\n",
       "traitlets                   5.9.0\n",
       "typing_extensions           NA\n",
       "wcwidth                     0.2.6\n",
       "zmq                         23.2.0\n",
       "zoneinfo                    NA\n",
       "</pre>\n",
       "</details> <!-- seems like this ends pre, so might as well be explicit -->\n",
       "<pre>\n",
       "-----\n",
       "IPython             8.11.0\n",
       "jupyter_client      8.1.0\n",
       "jupyter_core        5.3.0\n",
       "jupyterlab          3.5.0\n",
       "notebook            6.5.3\n",
       "-----\n",
       "Python 3.11.0 (main, Mar  1 2023, 18:26:19) [GCC 11.2.0]\n",
       "Linux-5.15.90.1-microsoft-standard-WSL2-x86_64-with-glibc2.31\n",
       "-----\n",
       "Session information updated at 2023-03-27 16:46\n",
       "</pre>\n",
       "</details>"
      ],
      "text/plain": [
       "<IPython.core.display.HTML object>"
      ]
     },
     "execution_count": 9,
     "metadata": {},
     "output_type": "execute_result"
    }
   ],
   "source": [
    "import session_info\n",
    "session_info.show()"
   ]
  },
  {
   "cell_type": "markdown",
   "metadata": {},
   "source": [
    "🔚"
   ]
  }
 ],
 "metadata": {
  "kernelspec": {
   "display_name": "Python 3 (ipykernel)",
   "language": "python",
   "name": "python3"
  },
  "language_info": {
   "codemirror_mode": {
    "name": "ipython",
    "version": 3
   },
   "file_extension": ".py",
   "mimetype": "text/x-python",
   "name": "python",
   "nbconvert_exporter": "python",
   "pygments_lexer": "ipython3",
   "version": "3.11.0"
  },
  "widgets": {
   "application/vnd.jupyter.widget-state+json": {
    "state": {},
    "version_major": 2,
    "version_minor": 0
   }
  }
 },
 "nbformat": 4,
 "nbformat_minor": 4
}
